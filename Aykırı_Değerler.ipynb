{
 "cells": [
  {
   "cell_type": "code",
   "execution_count": 2,
   "id": "1395fe5b",
   "metadata": {},
   "outputs": [],
   "source": [
    "import numpy as np\n",
    "import pandas as pd\n",
    "import seaborn as sb"
   ]
  },
  {
   "cell_type": "code",
   "execution_count": 3,
   "id": "6f013ad7",
   "metadata": {},
   "outputs": [],
   "source": [
    "diamonds = sb.load_dataset(\"diamonds\")"
   ]
  },
  {
   "cell_type": "code",
   "execution_count": 4,
   "id": "556e8ee6",
   "metadata": {},
   "outputs": [],
   "source": [
    "diamonds_tbl = diamonds[\"table\"]"
   ]
  },
  {
   "cell_type": "code",
   "execution_count": 9,
   "id": "3a0320a3",
   "metadata": {
    "scrolled": true
   },
   "outputs": [
    {
     "data": {
      "text/plain": [
       "count    53940.000000\n",
       "mean        57.457184\n",
       "std          2.234491\n",
       "min         43.000000\n",
       "25%         56.000000\n",
       "50%         57.000000\n",
       "75%         59.000000\n",
       "max         95.000000\n",
       "Name: table, dtype: float64"
      ]
     },
     "execution_count": 9,
     "metadata": {},
     "output_type": "execute_result"
    }
   ],
   "source": [
    "diamonds_tbl.describe()"
   ]
  },
  {
   "cell_type": "code",
   "execution_count": 5,
   "id": "e65a60b2",
   "metadata": {},
   "outputs": [
    {
     "data": {
      "text/plain": [
       "0        55.0\n",
       "1        61.0\n",
       "2        65.0\n",
       "3        58.0\n",
       "4        58.0\n",
       "         ... \n",
       "53935    57.0\n",
       "53936    55.0\n",
       "53937    60.0\n",
       "53938    58.0\n",
       "53939    55.0\n",
       "Name: table, Length: 53940, dtype: float64"
      ]
     },
     "execution_count": 5,
     "metadata": {},
     "output_type": "execute_result"
    }
   ],
   "source": [
    "diamonds_tbl"
   ]
  },
  {
   "cell_type": "code",
   "execution_count": 6,
   "id": "7646f7bf",
   "metadata": {},
   "outputs": [
    {
     "data": {
      "text/plain": [
       "<AxesSubplot:xlabel='table'>"
      ]
     },
     "execution_count": 6,
     "metadata": {},
     "output_type": "execute_result"
    },
    {
     "data": {
      "image/png": "[encoded data removed]",
      "text/plain": [
       "<Figure size 640x480 with 1 Axes>"
      ]
     },
     "metadata": {},
     "output_type": "display_data"
    }
   ],
   "source": [
    "sb.boxplot(x = diamonds_tbl)"
   ]
  },
  {
   "cell_type": "code",
   "execution_count": 45,
   "id": "794aeaf9",
   "metadata": {},
   "outputs": [
    {
     "name": "stdout",
     "output_type": "stream",
     "text": [
      "56.0\n"
     ]
    }
   ],
   "source": [
    "Q1 = diamonds_tbl.quantile(0.25)\n",
    "print(Q1)"
   ]
  },
  {
   "cell_type": "code",
   "execution_count": 46,
   "id": "099b80bb",
   "metadata": {},
   "outputs": [
    {
     "name": "stdout",
     "output_type": "stream",
     "text": [
      "59.0\n"
     ]
    }
   ],
   "source": [
    "Q3 = diamonds_tbl.quantile(0.75)\n",
    "print(Q3)"
   ]
  },
  {
   "cell_type": "code",
   "execution_count": 47,
   "id": "ae7e21f4",
   "metadata": {},
   "outputs": [
    {
     "name": "stdout",
     "output_type": "stream",
     "text": [
      "3.0\n"
     ]
    }
   ],
   "source": [
    "IQR = Q3-Q1\n",
    "print(IQR)"
   ]
  },
  {
   "cell_type": "code",
   "execution_count": 48,
   "id": "ef7ccc91",
   "metadata": {},
   "outputs": [
    {
     "name": "stdout",
     "output_type": "stream",
     "text": [
      "51.5\n"
     ]
    }
   ],
   "source": [
    "alt_sinir = Q1-1.5*IQR\n",
    "print(alt_sinir)"
   ]
  },
  {
   "cell_type": "code",
   "execution_count": 49,
   "id": "3ca842c9",
   "metadata": {},
   "outputs": [
    {
     "name": "stdout",
     "output_type": "stream",
     "text": [
      "63.5\n"
     ]
    }
   ],
   "source": [
    "ust_sinir = Q3+1.5*IQR\n",
    "print(ust_sinir)"
   ]
  },
  {
   "cell_type": "code",
   "execution_count": 50,
   "id": "3e2b0594",
   "metadata": {},
   "outputs": [],
   "source": [
    "diamonds_tbl=pd.DataFrame(diamonds_tbl)"
   ]
  },
  {
   "cell_type": "code",
   "execution_count": 51,
   "id": "207b60c4",
   "metadata": {},
   "outputs": [],
   "source": [
    "aykiri_alt = (diamonds_tbl < alt_sinir)"
   ]
  },
  {
   "cell_type": "code",
   "execution_count": 52,
   "id": "018a4934",
   "metadata": {},
   "outputs": [
    {
     "name": "stdout",
     "output_type": "stream",
     "text": [
      "Sınır Altı: 6\n"
     ]
    }
   ],
   "source": [
    "print( \"Sınır Altı: {}\" .format(diamonds_tbl[aykiri_alt].value_counts().count()))"
   ]
  },
  {
   "cell_type": "code",
   "execution_count": 53,
   "id": "9e600c9f",
   "metadata": {},
   "outputs": [],
   "source": [
    "aykiri_ust = (diamonds_tbl > ust_sinir)"
   ]
  },
  {
   "cell_type": "code",
   "execution_count": 54,
   "id": "bc5571f9",
   "metadata": {},
   "outputs": [
    {
     "data": {
      "text/plain": [
       "15"
      ]
     },
     "execution_count": 54,
     "metadata": {},
     "output_type": "execute_result"
    }
   ],
   "source": [
    "diamonds_tbl[aykiri_ust].value_counts().count()"
   ]
  },
  {
   "cell_type": "code",
   "execution_count": 55,
   "id": "2f4c674b",
   "metadata": {},
   "outputs": [
    {
     "data": {
      "text/plain": [
       "(53940, 1)"
      ]
     },
     "execution_count": 55,
     "metadata": {},
     "output_type": "execute_result"
    }
   ],
   "source": [
    "diamonds_tbl.shape"
   ]
  },
  {
   "cell_type": "code",
   "execution_count": 56,
   "id": "114440f6",
   "metadata": {},
   "outputs": [],
   "source": [
    "new_dt = diamonds_tbl[~(aykiri_alt | aykiri_ust).any(axis=1)]"
   ]
  },
  {
   "cell_type": "code",
   "execution_count": 58,
   "id": "d17c2ea4",
   "metadata": {},
   "outputs": [
    {
     "data": {
      "text/plain": [
       "(53335, 1)"
      ]
     },
     "execution_count": 58,
     "metadata": {},
     "output_type": "execute_result"
    }
   ],
   "source": [
    "new_dt.shape"
   ]
  },
  {
   "cell_type": "code",
   "execution_count": null,
   "id": "1a94949e",
   "metadata": {},
   "outputs": [],
   "source": []
  }
 ],
 "metadata": {
  "kernelspec": {
   "display_name": "Python 3 (ipykernel)",
   "language": "python",
   "name": "python3"
  },
  "language_info": {
   "codemirror_mode": {
    "name": "ipython",
    "version": 3
   },
   "file_extension": ".py",
   "mimetype": "text/x-python",
   "name": "python",
   "nbconvert_exporter": "python",
   "pygments_lexer": "ipython3",
   "version": "3.9.13"
  }
 },
 "nbformat": 4,
 "nbformat_minor": 5
}
